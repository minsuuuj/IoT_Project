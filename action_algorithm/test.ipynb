{
 "cells": [
  {
   "cell_type": "code",
   "execution_count": 87,
   "metadata": {},
   "outputs": [],
   "source": [
    "keypoints_name = [\"nose\", \\\n",
    "                  \"left_shoulder\", \"right_shoulder\", \\\n",
    "                  \"left_elbow\", \"right_elbow\", \"left_wrist\", \\\n",
    "                  \"right_wrist\", \"left_hip\", \"right_hip\", \\\n",
    "                  \"left_knee\", \"right_knee\", \"left_ankle\", \\\n",
    "                  \"right_ankle\", \"neck\"]\n",
    "\n"
   ]
  },
  {
   "cell_type": "code",
   "execution_count": 88,
   "metadata": {},
   "outputs": [
    {
     "data": {
      "text/plain": [
       "['nose',\n",
       " 'shoulder_left',\n",
       " 'shoulder_right',\n",
       " 'elbow_left',\n",
       " 'elbow_right',\n",
       " 'wrist_left',\n",
       " 'wrist_right',\n",
       " 'hip_left',\n",
       " 'hip_right',\n",
       " 'knee_left',\n",
       " 'knee_right',\n",
       " 'ankle_left',\n",
       " 'ankle_right',\n",
       " 'neck']"
      ]
     },
     "execution_count": 88,
     "metadata": {},
     "output_type": "execute_result"
    }
   ],
   "source": [
    "for i, name in enumerate(keypoints_name):\n",
    "    if '_' in name:\n",
    "        a, b = name.split('_')\n",
    "        name = b+'_'+a\n",
    "        keypoints_name[i] = name\n",
    "\n",
    "keypoints_name"
   ]
  },
  {
   "cell_type": "code",
   "execution_count": 89,
   "metadata": {},
   "outputs": [
    {
     "name": "stdout",
     "output_type": "stream",
     "text": [
      "self.nose, self.shoulder_left, self.shoulder_right, self.elbow_left, self.elbow_right, self.wrist_left, self.wrist_right, self.hip_left, self.hip_right, self.knee_left, self.knee_right, self.ankle_left, self.ankle_right, self.neck, "
     ]
    }
   ],
   "source": [
    "for i, kn in enumerate(keypoints_name):\n",
    "    var = f'self.{kn},'\n",
    "    print(var, end=' ')"
   ]
  },
  {
   "cell_type": "code",
   "execution_count": 90,
   "metadata": {},
   "outputs": [
    {
     "name": "stdout",
     "output_type": "stream",
     "text": [
      "self.nose = keypoint_list[0]\n",
      "self.shoulder_left = keypoint_list[1]\n",
      "self.shoulder_right = keypoint_list[2]\n",
      "self.elbow_left = keypoint_list[3]\n",
      "self.elbow_right = keypoint_list[4]\n",
      "self.wrist_left = keypoint_list[5]\n",
      "self.wrist_right = keypoint_list[6]\n",
      "self.hip_left = keypoint_list[7]\n",
      "self.hip_right = keypoint_list[8]\n",
      "self.knee_left = keypoint_list[9]\n",
      "self.knee_right = keypoint_list[10]\n",
      "self.ankle_left = keypoint_list[11]\n",
      "self.ankle_right = keypoint_list[12]\n",
      "self.neck = keypoint_list[13]\n"
     ]
    }
   ],
   "source": [
    "for i, kn in enumerate(keypoints_name):\n",
    "    var = f'self.{kn} = keypoint_list[{i}]'\n",
    "    print(var)"
   ]
  },
  {
   "cell_type": "code",
   "execution_count": 91,
   "metadata": {},
   "outputs": [
    {
     "data": {
      "text/plain": [
       "14"
      ]
     },
     "execution_count": 91,
     "metadata": {},
     "output_type": "execute_result"
    }
   ],
   "source": [
    "len(keypoints_name)"
   ]
  },
  {
   "cell_type": "code",
   "execution_count": 92,
   "metadata": {},
   "outputs": [],
   "source": [
    "import json"
   ]
  },
  {
   "cell_type": "code",
   "execution_count": 93,
   "metadata": {},
   "outputs": [
    {
     "name": "stdout",
     "output_type": "stream",
     "text": [
      "ankle_right\n",
      "knee_right\n",
      "hip_right\n",
      "hip_left\n",
      "knee_left\n",
      "ankle_left\n",
      "pelvis\n",
      "throax\n",
      "neck\n",
      "top_head\n",
      "wrist_right\n",
      "elbow_right\n",
      "shoulder_right\n",
      "shoulder_left\n",
      "elbow_left\n",
      "wrist_left\n"
     ]
    }
   ],
   "source": [
    "frame_keypoint = '1-1_606-C08_2D.json'\n",
    "\n",
    "def remove_indices_containing_string(lst, target_string):\n",
    "    return [element for element in lst if target_string not in element]\n",
    "\n",
    "with open(frame_keypoint, 'r') as data:\n",
    "    C08_606 = json.load(data)\n",
    "    # print(json.dumps(C08_606, indent = \"\\t\"))\n",
    "    frame_keypoints = C08_606['annotations'][0]['keypoints']\n",
    "    k = C08_606['categories'][0]['keypoints']\n",
    "\n",
    "k = remove_indices_containing_string(k, 'view')\n",
    "k = remove_indices_containing_string(k, '_y')\n",
    "    \n",
    "k = [ele[:-2] for ele in k]\n",
    "\n",
    "for i, name in enumerate(k):\n",
    "    if '_' in name:\n",
    "        a, b = name.split('_')\n",
    "        name = b+'_'+a\n",
    "        k[i] = name\n",
    "\n",
    "for i in k:\n",
    "    print(i)"
   ]
  },
  {
   "cell_type": "code",
   "execution_count": 94,
   "metadata": {},
   "outputs": [],
   "source": [
    "k.remove('throax')\n",
    "k.remove('pelvis')"
   ]
  },
  {
   "cell_type": "code",
   "execution_count": 95,
   "metadata": {},
   "outputs": [
    {
     "data": {
      "text/plain": [
       "['ankle_right',\n",
       " 'knee_right',\n",
       " 'hip_right',\n",
       " 'hip_left',\n",
       " 'knee_left',\n",
       " 'ankle_left',\n",
       " 'neck',\n",
       " 'nose',\n",
       " 'wrist_right',\n",
       " 'elbow_right',\n",
       " 'shoulder_right',\n",
       " 'shoulder_left',\n",
       " 'elbow_left',\n",
       " 'wrist_left']"
      ]
     },
     "execution_count": 95,
     "metadata": {},
     "output_type": "execute_result"
    }
   ],
   "source": [
    "k[k.index('top_head')] = 'nose'\n",
    "k"
   ]
  },
  {
   "cell_type": "code",
   "execution_count": 96,
   "metadata": {},
   "outputs": [
    {
     "name": "stdout",
     "output_type": "stream",
     "text": [
      "['nose', 'shoulder_left', 'shoulder_right', 'elbow_left', 'elbow_right', 'wrist_left', 'wrist_right', 'hip_left', 'hip_right', 'knee_left', 'knee_right', 'ankle_left', 'ankle_right', 'neck']\n",
      "['ankle_right', 'knee_right', 'hip_right', 'hip_left', 'knee_left', 'ankle_left', 'neck', 'nose', 'wrist_right', 'elbow_right', 'shoulder_right', 'shoulder_left', 'elbow_left', 'wrist_left']\n"
     ]
    },
    {
     "data": {
      "text/plain": [
       "[7, 11, 10, 12, 9, 13, 8, 3, 2, 4, 1, 5, 0, 6]"
      ]
     },
     "execution_count": 96,
     "metadata": {},
     "output_type": "execute_result"
    }
   ],
   "source": [
    "order_list = []\n",
    "\n",
    "for i, a in enumerate(keypoints_name):\n",
    "    for j, b in enumerate(k):\n",
    "        if a == b:\n",
    "            order_list.append(j)\n",
    "print(keypoints_name)\n",
    "print(k)\n",
    "order_list"
   ]
  }
 ],
 "metadata": {
  "kernelspec": {
   "display_name": "torch",
   "language": "python",
   "name": "python3"
  },
  "language_info": {
   "codemirror_mode": {
    "name": "ipython",
    "version": 3
   },
   "file_extension": ".py",
   "mimetype": "text/x-python",
   "name": "python",
   "nbconvert_exporter": "python",
   "pygments_lexer": "ipython3",
   "version": "3.11.4"
  },
  "orig_nbformat": 4
 },
 "nbformat": 4,
 "nbformat_minor": 2
}
