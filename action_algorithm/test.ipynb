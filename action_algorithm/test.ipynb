{
 "cells": [
  {
   "cell_type": "code",
   "execution_count": 16,
   "metadata": {},
   "outputs": [],
   "source": [
    "keypoints_name = ['nose',\n",
    "                'eye_left', 'eye_right',\n",
    "                'ear_left', 'ear_right',\n",
    "                'shoulder_left', 'shoulder_right',\n",
    "                'elbow_left', 'elbow_right',\n",
    "                'wrist_left', 'wrist_right',\n",
    "                'hip_left', 'hip_right',\n",
    "                'knee_left', 'knee_right',\n",
    "                'ankle_left', 'ankle_right',\n",
    "                'neck']\n",
    "\n"
   ]
  },
  {
   "cell_type": "code",
   "execution_count": 7,
   "metadata": {},
   "outputs": [
    {
     "data": {
      "text/plain": [
       "['nose',\n",
       " 'left_eye',\n",
       " 'right_eye',\n",
       " 'left_ear',\n",
       " 'right_ear',\n",
       " 'left_shoulder',\n",
       " 'right_shoulder',\n",
       " 'left_elbow',\n",
       " 'right_elbow',\n",
       " 'left_wrist',\n",
       " 'right_wrist',\n",
       " 'left_hip',\n",
       " 'right_hip',\n",
       " 'left_knee',\n",
       " 'right_knee',\n",
       " 'left_ankle',\n",
       " 'right_ankle',\n",
       " 'neck']"
      ]
     },
     "execution_count": 7,
     "metadata": {},
     "output_type": "execute_result"
    }
   ],
   "source": [
    "for i, name in enumerate(keypoints_name):\n",
    "    if '_' in name:\n",
    "        a, b = name.split('_')\n",
    "        name = b+'_'+a\n",
    "        keypoints_name[i] = name\n",
    "\n",
    "keypoints_name"
   ]
  },
  {
   "cell_type": "code",
   "execution_count": 8,
   "metadata": {},
   "outputs": [
    {
     "name": "stdout",
     "output_type": "stream",
     "text": [
      "self.nose, self.left_eye, self.right_eye, self.left_ear, self.right_ear, self.left_shoulder, self.right_shoulder, self.left_elbow, self.right_elbow, self.left_wrist, self.right_wrist, self.left_hip, self.right_hip, self.left_knee, self.right_knee, self.left_ankle, self.right_ankle, self.neck, "
     ]
    }
   ],
   "source": [
    "for i, kn in enumerate(keypoints_name):\n",
    "    var = f'self.{kn},'\n",
    "    print(var, end=' ')"
   ]
  },
  {
   "cell_type": "code",
   "execution_count": 17,
   "metadata": {},
   "outputs": [
    {
     "name": "stdout",
     "output_type": "stream",
     "text": [
      "self.nose = keypoint_list[0]\n",
      "self.eye_left = keypoint_list[1]\n",
      "self.eye_right = keypoint_list[2]\n",
      "self.ear_left = keypoint_list[3]\n",
      "self.ear_right = keypoint_list[4]\n",
      "self.shoulder_left = keypoint_list[5]\n",
      "self.shoulder_right = keypoint_list[6]\n",
      "self.elbow_left = keypoint_list[7]\n",
      "self.elbow_right = keypoint_list[8]\n",
      "self.wrist_left = keypoint_list[9]\n",
      "self.wrist_right = keypoint_list[10]\n",
      "self.hip_left = keypoint_list[11]\n",
      "self.hip_right = keypoint_list[12]\n",
      "self.knee_left = keypoint_list[13]\n",
      "self.knee_right = keypoint_list[14]\n",
      "self.ankle_left = keypoint_list[15]\n",
      "self.ankle_right = keypoint_list[16]\n",
      "self.neck = keypoint_list[17]\n"
     ]
    }
   ],
   "source": [
    "for i, kn in enumerate(keypoints_name):\n",
    "    var = f'self.{kn} = keypoint_list[{i}]'\n",
    "    print(var)"
   ]
  },
  {
   "cell_type": "code",
   "execution_count": 10,
   "metadata": {},
   "outputs": [
    {
     "data": {
      "text/plain": [
       "18"
      ]
     },
     "execution_count": 10,
     "metadata": {},
     "output_type": "execute_result"
    }
   ],
   "source": [
    "len(keypoints_name)"
   ]
  },
  {
   "cell_type": "code",
   "execution_count": 11,
   "metadata": {},
   "outputs": [],
   "source": [
    "import json"
   ]
  },
  {
   "cell_type": "code",
   "execution_count": 12,
   "metadata": {},
   "outputs": [
    {
     "name": "stdout",
     "output_type": "stream",
     "text": [
      "ankle_right\n",
      "knee_right\n",
      "hip_right\n",
      "hip_left\n",
      "knee_left\n",
      "ankle_left\n",
      "pelvis\n",
      "throax\n",
      "neck\n",
      "top_head\n",
      "wrist_right\n",
      "elbow_right\n",
      "shoulder_right\n",
      "shoulder_left\n",
      "elbow_left\n",
      "wrist_left\n"
     ]
    }
   ],
   "source": [
    "frame_keypoint = '1-1_606-C08_2D.json'\n",
    "\n",
    "def remove_indices_containing_string(lst, target_string):\n",
    "    return [element for element in lst if target_string not in element]\n",
    "\n",
    "with open(frame_keypoint, 'r') as data:\n",
    "    C08_606 = json.load(data)\n",
    "    # print(json.dumps(C08_606, indent = \"\\t\"))\n",
    "    frame_keypoints = C08_606['annotations'][0]['keypoints']\n",
    "    k = C08_606['categories'][0]['keypoints']\n",
    "\n",
    "k = remove_indices_containing_string(k, 'view')\n",
    "k = remove_indices_containing_string(k, '_y')\n",
    "    \n",
    "k = [ele[:-2] for ele in k]\n",
    "\n",
    "for i, name in enumerate(k):\n",
    "    if '_' in name:\n",
    "        a, b = name.split('_')\n",
    "        name = b+'_'+a\n",
    "        k[i] = name\n",
    "\n",
    "for i in k:\n",
    "    print(i)"
   ]
  },
  {
   "cell_type": "code",
   "execution_count": 13,
   "metadata": {},
   "outputs": [],
   "source": [
    "k.remove('throax')\n",
    "k.remove('pelvis')"
   ]
  },
  {
   "cell_type": "code",
   "execution_count": 14,
   "metadata": {},
   "outputs": [
    {
     "data": {
      "text/plain": [
       "['ankle_right',\n",
       " 'knee_right',\n",
       " 'hip_right',\n",
       " 'hip_left',\n",
       " 'knee_left',\n",
       " 'ankle_left',\n",
       " 'neck',\n",
       " 'nose',\n",
       " 'wrist_right',\n",
       " 'elbow_right',\n",
       " 'shoulder_right',\n",
       " 'shoulder_left',\n",
       " 'elbow_left',\n",
       " 'wrist_left']"
      ]
     },
     "execution_count": 14,
     "metadata": {},
     "output_type": "execute_result"
    }
   ],
   "source": [
    "k[k.index('top_head')] = 'nose'\n",
    "k"
   ]
  },
  {
   "cell_type": "code",
   "execution_count": 15,
   "metadata": {},
   "outputs": [
    {
     "name": "stdout",
     "output_type": "stream",
     "text": [
      "['nose', 'left_eye', 'right_eye', 'left_ear', 'right_ear', 'left_shoulder', 'right_shoulder', 'left_elbow', 'right_elbow', 'left_wrist', 'right_wrist', 'left_hip', 'right_hip', 'left_knee', 'right_knee', 'left_ankle', 'right_ankle', 'neck']\n",
      "['ankle_right', 'knee_right', 'hip_right', 'hip_left', 'knee_left', 'ankle_left', 'neck', 'nose', 'wrist_right', 'elbow_right', 'shoulder_right', 'shoulder_left', 'elbow_left', 'wrist_left']\n"
     ]
    },
    {
     "data": {
      "text/plain": [
       "[7, 6]"
      ]
     },
     "execution_count": 15,
     "metadata": {},
     "output_type": "execute_result"
    }
   ],
   "source": [
    "order_list = []\n",
    "\n",
    "for i, a in enumerate(keypoints_name):\n",
    "    for j, b in enumerate(k):\n",
    "        if a == b:\n",
    "            order_list.append(j)\n",
    "print(keypoints_name)\n",
    "print(k)\n",
    "order_list"
   ]
  }
 ],
 "metadata": {
  "kernelspec": {
   "display_name": "torch",
   "language": "python",
   "name": "python3"
  },
  "language_info": {
   "codemirror_mode": {
    "name": "ipython",
    "version": 3
   },
   "file_extension": ".py",
   "mimetype": "text/x-python",
   "name": "python",
   "nbconvert_exporter": "python",
   "pygments_lexer": "ipython3",
   "version": "3.11.4"
  },
  "orig_nbformat": 4
 },
 "nbformat": 4,
 "nbformat_minor": 2
}
