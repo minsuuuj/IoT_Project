{
 "cells": [
  {
   "cell_type": "code",
   "execution_count": 2,
   "metadata": {},
   "outputs": [],
   "source": [
    "import json"
   ]
  },
  {
   "cell_type": "code",
   "execution_count": 3,
   "metadata": {},
   "outputs": [],
   "source": [
    "file_path = 'keypoints_array.json'\n",
    "\n",
    "with open(file_path, 'r') as json_file:\n",
    "    data = json.load(json_file)"
   ]
  },
  {
   "cell_type": "code",
   "execution_count": 4,
   "metadata": {},
   "outputs": [
    {
     "name": "stdout",
     "output_type": "stream",
     "text": [
      "[[[0, 0.008928571827709675, 0.49446576833724976],\n",
      "  [1, None, None],\n",
      "  [2, 0.04969768971204758, 0.41035357117652893],\n",
      "  [3, 0.14646472036838531, 0.6490901112556458],\n",
      "  [4, 0.21216388046741486, 0.3563534915447235],\n",
      "  [5, 0.6352724432945251, 0.916925847530365],\n",
      "  [6, 0.7589492201805115, 0.2041100114583969],\n",
      "  [7, None, None],\n",
      "  [8, None, None],\n",
      "  [9, None, None],\n",
      "  [10, None, None],\n",
      "  [11, None, None],\n",
      "  [12, None, None],\n",
      "  [13, None, None],\n",
      "  [14, None, None],\n",
      "  [15, None, None],\n",
      "  [16, None, None],\n",
      "  [17, 0.6695848703384399, 0.5763800740242004]]]\n"
     ]
    }
   ],
   "source": [
    "import pprint\n",
    "pprint.pprint(data)"
   ]
  },
  {
   "cell_type": "code",
   "execution_count": 5,
   "metadata": {},
   "outputs": [],
   "source": [
    "data = data[0]"
   ]
  },
  {
   "cell_type": "code",
   "execution_count": 6,
   "metadata": {},
   "outputs": [],
   "source": [
    "for i in range(len(data)):\n",
    "    data[i] = data[i][1:]"
   ]
  },
  {
   "cell_type": "code",
   "execution_count": 7,
   "metadata": {},
   "outputs": [
    {
     "data": {
      "text/plain": [
       "[[0.008928571827709675, 0.49446576833724976],\n",
       " [None, None],\n",
       " [0.04969768971204758, 0.41035357117652893],\n",
       " [0.14646472036838531, 0.6490901112556458],\n",
       " [0.21216388046741486, 0.3563534915447235],\n",
       " [0.6352724432945251, 0.916925847530365],\n",
       " [0.7589492201805115, 0.2041100114583969],\n",
       " [None, None],\n",
       " [None, None],\n",
       " [None, None],\n",
       " [None, None],\n",
       " [None, None],\n",
       " [None, None],\n",
       " [None, None],\n",
       " [None, None],\n",
       " [None, None],\n",
       " [None, None],\n",
       " [0.6695848703384399, 0.5763800740242004]]"
      ]
     },
     "execution_count": 7,
     "metadata": {},
     "output_type": "execute_result"
    }
   ],
   "source": [
    "data"
   ]
  },
  {
   "cell_type": "code",
   "execution_count": 8,
   "metadata": {},
   "outputs": [],
   "source": [
    "import numpy as np\n",
    "\n",
    "def calc_dist(vector1, vector2):\n",
    "    distance = np.sum((np.array(vector1) - np.array(vector2))**2)**0.5\n",
    "    return distance\n",
    "\n",
    "def calc_center(vector1, vector2):\n",
    "    return list((np.array(vector1)+np.array(vector2))/2)"
   ]
  },
  {
   "cell_type": "code",
   "execution_count": 9,
   "metadata": {},
   "outputs": [
    {
     "data": {
      "text/plain": [
       "[[0.008928571827709675, 0.49446576833724976],\n",
       " [None, None],\n",
       " [0.04969768971204758, 0.41035357117652893],\n",
       " [0.14646472036838531, 0.6490901112556458],\n",
       " [0.21216388046741486, 0.3563534915447235],\n",
       " [0.6352724432945251, 0.916925847530365],\n",
       " [0.7589492201805115, 0.2041100114583969],\n",
       " [None, None],\n",
       " [None, None],\n",
       " [None, None],\n",
       " [None, None],\n",
       " [None, None],\n",
       " [None, None],\n",
       " [None, None],\n",
       " [None, None],\n",
       " [None, None],\n",
       " [None, None],\n",
       " [0.6695848703384399, 0.5763800740242004]]"
      ]
     },
     "execution_count": 9,
     "metadata": {},
     "output_type": "execute_result"
    }
   ],
   "source": [
    "data"
   ]
  },
  {
   "cell_type": "code",
   "execution_count": 10,
   "metadata": {},
   "outputs": [],
   "source": [
    "class Kpoints:\n",
    "    def __init__(self, keypoint_list):\n",
    "        self.nose = keypoint_list[0]\n",
    "        self.eye_left = keypoint_list[1]\n",
    "        self.eye_right = keypoint_list[2]\n",
    "        self.ear_left = keypoint_list[3]\n",
    "        self.ear_right = keypoint_list[4]\n",
    "        self.shoulder_left = keypoint_list[5]\n",
    "        self.shoulder_right = keypoint_list[6]\n",
    "        self.elbow_left = keypoint_list[7]\n",
    "        self.elbow_right = keypoint_list[8]\n",
    "        self.wrist_left = keypoint_list[9]\n",
    "        self.wrist_right = keypoint_list[10]\n",
    "        self.hip_left = keypoint_list[11]\n",
    "        self.hip_right = keypoint_list[12]\n",
    "        self.knee_left = keypoint_list[13]\n",
    "        self.knee_right = keypoint_list[14]\n",
    "        self.ankle_left = keypoint_list[15]\n",
    "        self.ankle_right = keypoint_list[16]\n",
    "        self.neck = keypoint_list[17]\n",
    "\n",
    "        # mass center 구하기\n",
    "\n",
    "        total_x = 0\n",
    "        total_y = 0\n",
    "        none_cnt = 0\n",
    "        for x, y in keypoint_list:\n",
    "            if x:\n",
    "                total_x =+ x\n",
    "                total_y =+ y\n",
    "            else:\n",
    "                none_cnt += 1\n",
    "                \n",
    "        mc_x = total_x / (len(keypoint_list) - none_cnt)\n",
    "        mc_y = total_y / (len(keypoint_list) - none_cnt)\n",
    "        self.mc = [mc_x, mc_y]\n",
    "\n",
    "    def __iter__(self):\n",
    "        fields = [self.nose, self.shoulder_left, self.shoulder_right, self.elbow_left, self.elbow_right, self.wrist_left, self.wrist_right,\\\n",
    "                  self.hip_left, self.hip_right, self.knee_left, self.knee_right, self.ankle_left, self.ankle_right, self.neck,]\n",
    "\n",
    "        for field in fields:\n",
    "            yield field"
   ]
  },
  {
   "cell_type": "code",
   "execution_count": 11,
   "metadata": {},
   "outputs": [],
   "source": [
    "kp = Kpoints(data)"
   ]
  },
  {
   "cell_type": "code",
   "execution_count": 12,
   "metadata": {},
   "outputs": [
    {
     "data": {
      "text/plain": [
       "0.08899749602590289"
      ]
     },
     "execution_count": 12,
     "metadata": {},
     "output_type": "execute_result"
    }
   ],
   "source": [
    "kp.mc\n",
    "np.mean(kp.mc)"
   ]
  },
  {
   "cell_type": "code",
   "execution_count": 13,
   "metadata": {},
   "outputs": [
    {
     "name": "stdout",
     "output_type": "stream",
     "text": [
      "<class 'list'>\n",
      "<class 'list'>\n",
      "<class 'list'>\n",
      "<class 'list'>\n",
      "<class 'list'>\n",
      "<class 'list'>\n",
      "<class 'list'>\n",
      "<class 'list'>\n",
      "<class 'list'>\n",
      "<class 'list'>\n",
      "<class 'list'>\n",
      "<class 'list'>\n",
      "<class 'list'>\n",
      "<class 'list'>\n"
     ]
    }
   ],
   "source": [
    "for a in kp:\n",
    "    print(type(a))"
   ]
  },
  {
   "cell_type": "code",
   "execution_count": 14,
   "metadata": {},
   "outputs": [
    {
     "data": {
      "text/plain": [
       "(0, 0.09408728778362274, 0.08325421065092087)"
      ]
     },
     "execution_count": 14,
     "metadata": {},
     "output_type": "execute_result"
    }
   ],
   "source": [
    "0, 0.8806620240211487, 0.080303855240345\n",
    "0, 0.09408728778362274, 0.08325421065092087"
   ]
  },
  {
   "cell_type": "code",
   "execution_count": 15,
   "metadata": {},
   "outputs": [],
   "source": [
    "import json\n",
    "import numpy as np\n",
    "\n",
    "keypoints_name = ['nose',\n",
    "                'eye_left', 'eye_right',\n",
    "                'ear_left', 'ear_right',\n",
    "                'shoulder_left', 'shoulder_right',\n",
    "                'elbow_left', 'elbow_right',\n",
    "                'wrist_left', 'wrist_right',\n",
    "                'hip_left', 'hip_right',\n",
    "                'knee_left', 'knee_right',\n",
    "                'ankle_left', 'ankle_right',\n",
    "                'neck']\n",
    "\n",
    "def calc_dist(vector1, vector2):\n",
    "    distance = np.sum((np.array(vector1) - np.array(vector2))**2)**0.5\n",
    "    return distance\n",
    "\n",
    "def calc_center(vector1, vector2):\n",
    "    return list((np.array(vector1)+np.array(vector2))/2)\n",
    "\n",
    "class Kpoints:\n",
    "    def __init__(self, keypoint_list):\n",
    "        self.nose = keypoint_list[0]\n",
    "        self.eye_left = keypoint_list[1]\n",
    "        self.eye_right = keypoint_list[2]\n",
    "        self.ear_left = keypoint_list[3]\n",
    "        self.ear_right = keypoint_list[4]\n",
    "        self.shoulder_left = keypoint_list[5]\n",
    "        self.shoulder_right = keypoint_list[6]\n",
    "        self.elbow_left = keypoint_list[7]\n",
    "        self.elbow_right = keypoint_list[8]\n",
    "        self.wrist_left = keypoint_list[9]\n",
    "        self.wrist_right = keypoint_list[10]\n",
    "        self.hip_left = keypoint_list[11]\n",
    "        self.hip_right = keypoint_list[12]\n",
    "        self.knee_left = keypoint_list[13]\n",
    "        self.knee_right = keypoint_list[14]\n",
    "        self.ankle_left = keypoint_list[15]\n",
    "        self.ankle_right = keypoint_list[16]\n",
    "        self.neck = keypoint_list[17]\n",
    "\n",
    "        self.mc = self.calc_mc(keypoint_list)\n",
    "    \n",
    "    def __iter__(self):\n",
    "        fields = [self.nose, self.shoulder_left, self.shoulder_right, self.elbow_left, self.elbow_right, self.wrist_left, self.wrist_right,\\\n",
    "                  self.hip_left, self.hip_right, self.knee_left, self.knee_right, self.ankle_left, self.ankle_right, self.neck,]\n",
    "\n",
    "        for field in fields:\n",
    "            yield field\n",
    "\n",
    "    def calc_mc(self, keypoints):\n",
    "        keypoints_x = np.array(np.array(keypoints)[:,2])\n",
    "        keypoints_x = keypoints_x[keypoints_x != None]\n",
    "        keypoints_y = np.array(np.array(keypoints)[:,1])\n",
    "        keypoints_y = keypoints_y[keypoints_y != None]\n",
    "\n",
    "        try:\n",
    "            mc_x = np.mean(keypoints_x)\n",
    "            mc_y = np.mean(keypoints_y)\n",
    "        except:\n",
    "            mc_x = 0\n",
    "            mc_y = 0\n",
    "\n",
    "        return [mc_x, mc_y]\n",
    "\n",
    "class Keypoint_sequence:\n",
    "    def __init__(self):\n",
    "        self.before2: Kpoints = None\n",
    "        self.before1: Kpoints = None\n",
    "        self.present: Kpoints = None\n",
    "\n",
    "    def append(self, kp):\n",
    "        self.before2 = self.before1\n",
    "        self.before1 = self.present\n",
    "        self.present = kp\n",
    "        \n"
   ]
  },
  {
   "cell_type": "code",
   "execution_count": 3,
   "metadata": {},
   "outputs": [
    {
     "data": {
      "text/plain": [
       "True"
      ]
     },
     "execution_count": 3,
     "metadata": {},
     "output_type": "execute_result"
    }
   ],
   "source": [
    "a = 0.45454\n",
    "b = 0.24353\n",
    "\n",
    "a > b"
   ]
  },
  {
   "cell_type": "code",
   "execution_count": 7,
   "metadata": {},
   "outputs": [
    {
     "data": {
      "text/plain": [
       "0.2781145289659254"
      ]
     },
     "execution_count": 7,
     "metadata": {},
     "output_type": "execute_result"
    }
   ],
   "source": [
    "import numpy as np\n",
    "\n",
    "vector1 = [0.34243245214251425153215415156154561564865, 0.265346]\n",
    "vector2 = [0.12312315652151561561561561561048948946500,0.4363756]\n",
    "\n",
    "distance = np.sum((np.array(vector1) - np.array(vector2))**2)**0.5\n",
    "\n",
    "distance"
   ]
  },
  {
   "cell_type": "code",
   "execution_count": 1,
   "metadata": {},
   "outputs": [
    {
     "ename": "ModuleNotFoundError",
     "evalue": "No module named 'cv2'",
     "output_type": "error",
     "traceback": [
      "\u001b[0;31m---------------------------------------------------------------------------\u001b[0m",
      "\u001b[0;31mModuleNotFoundError\u001b[0m                       Traceback (most recent call last)",
      "Cell \u001b[0;32mIn[1], line 2\u001b[0m\n\u001b[1;32m      1\u001b[0m \u001b[39mimport\u001b[39;00m \u001b[39mnumpy\u001b[39;00m \u001b[39mas\u001b[39;00m \u001b[39mnp\u001b[39;00m\n\u001b[0;32m----> 2\u001b[0m \u001b[39mimport\u001b[39;00m \u001b[39mcv2\u001b[39;00m\n",
      "\u001b[0;31mModuleNotFoundError\u001b[0m: No module named 'cv2'"
     ]
    }
   ],
   "source": [
    "import numpy as np\n",
    "import "
   ]
  },
  {
   "cell_type": "code",
   "execution_count": null,
   "metadata": {},
   "outputs": [],
   "source": []
  }
 ],
 "metadata": {
  "kernelspec": {
   "display_name": "trtpose",
   "language": "python",
   "name": "python3"
  },
  "language_info": {
   "codemirror_mode": {
    "name": "ipython",
    "version": 3
   },
   "file_extension": ".py",
   "mimetype": "text/x-python",
   "name": "python",
   "nbconvert_exporter": "python",
   "pygments_lexer": "ipython3",
   "version": "3.11.4"
  },
  "orig_nbformat": 4
 },
 "nbformat": 4,
 "nbformat_minor": 2
}
